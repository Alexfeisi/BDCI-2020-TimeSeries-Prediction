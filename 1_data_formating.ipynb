{
 "cells": [
  {
   "cell_type": "code",
   "execution_count": 1,
   "metadata": {},
   "outputs": [
    {
     "name": "stderr",
     "output_type": "stream",
     "text": [
      "100%|██████████| 10/10 [40:27<00:00, 242.80s/it]\n"
     ]
    }
   ],
   "source": [
    "import pandas as pd\n",
    "import numpy as np\n",
    "from tqdm import tqdm\n",
    "\n",
    "import gc\n",
    "\n",
    "def flatten_conditional_feature(f):\n",
    "    return [[x.split(':')[0]] + x.split(':')[1].split(',') for x in f.split(' ')]\n",
    "\n",
    "data_path = \"./data/traffic/\"\n",
    "\n",
    "for date in tqdm(range(1,32)):\n",
    "    with open(data_path + '201907%02d.txt'%date) as file:\n",
    "        line = file.readline().replace('\\n','')\n",
    "        feature_dict = {\"date\": date - 31,\n",
    "                  \"link\": [],\n",
    "                  \"label\": [],\n",
    "                  \"current_time\": [],\n",
    "                  \"predict_time\": []}\n",
    "\n",
    "        while line:\n",
    "            index = line.split(';')[0].split(' ')\n",
    "            recent_feature = flatten_conditional_feature(line.split(';')[1])\n",
    "            history_features = []\n",
    "            for conditonal_feature in line.split(';')[2:]:\n",
    "                history_features.append(flatten_conditional_feature(conditonal_feature))\n",
    "\n",
    "            #generate features for DF    \n",
    "            feature_dict['link'].append(index[0])\n",
    "            feature_dict['label'].append(index[1])\n",
    "            feature_dict['current_time'].append(index[2])\n",
    "            feature_dict['predict_time'].append(index[3])\n",
    "\n",
    "            for t in range(0, 5):\n",
    "                for i,name in enumerate(['feature_time',\"feature_speed\",'feature_eta','feature_status','feature_carnums']):\n",
    "                    key = 'current_' + name + '_%d'%(t+1)\n",
    "                    feature_dict.setdefault(key, [])\n",
    "                    feature_dict[key].append(recent_feature[t][i])\n",
    "            for w in range(4):\n",
    "                for t in range(0, 5):\n",
    "                    for i,name in enumerate(['feature_time',\"feature_speed\",'feature_eta','feature_status','feature_carnums']):\n",
    "                        key = 'history%d_'%(w + 1) + name + '_%d'%(t+1)\n",
    "                        feature_dict.setdefault(key, [])\n",
    "                        feature_dict[key].append(history_features[w][t][i])\n",
    "            line = file.readline().replace('\\n','')\n",
    "        pd.DataFrame(feature_dict).to_csv(data_path + 'train_table_%02d.gz'%date, index=False, compression='gzip')\n",
    "        feature_dict = None\n",
    "        gc.collect()"
   ]
  }
 ],
 "metadata": {
  "kernelspec": {
   "display_name": "Python 3",
   "language": "python",
   "name": "python3"
  },
  "language_info": {
   "codemirror_mode": {
    "name": "ipython",
    "version": 3
   },
   "file_extension": ".py",
   "mimetype": "text/x-python",
   "name": "python",
   "nbconvert_exporter": "python",
   "pygments_lexer": "ipython3",
   "version": "3.6.10"
  }
 },
 "nbformat": 4,
 "nbformat_minor": 2
}
